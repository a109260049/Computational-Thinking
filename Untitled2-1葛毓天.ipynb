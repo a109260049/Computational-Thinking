{
  "nbformat": 4,
  "nbformat_minor": 0,
  "metadata": {
    "colab": {
      "name": "Untitled2-1張瑋麟.ipynb",
      "provenance": [],
      "authorship_tag": "ABX9TyPaR1KL/CPteECnTnFfm3zO",
      "include_colab_link": true
    },
    "kernelspec": {
      "name": "python3",
      "display_name": "Python 3"
    }
  },
  "cells": [
    {
      "cell_type": "markdown",
      "metadata": {
        "id": "view-in-github",
        "colab_type": "text"
      },
      "source": [
        "<a href=\"https://colab.research.google.com/github/a109260049/Computational-Thinking/blob/main/Untitled2-1%E8%91%9B%E6%AF%93%E5%A4%A9.ipynb\" target=\"_parent\"><img src=\"https://colab.research.google.com/assets/colab-badge.svg\" alt=\"Open In Colab\"/></a>"
      ]
    },
    {
      "cell_type": "code",
      "metadata": {
        "colab": {
          "base_uri": "https://localhost:8080/"
        },
        "id": "19ivgsm6fR43",
        "outputId": "830d7b8d-c18e-4d58-b1f6-f897479df044"
      },
      "source": [
        "time = 356\n",
        "hour = time // 60 # 商數\n",
        "minute = time % 60 # 餘數\n",
        "\n",
        "print(time, \"是\", hour, \"小時\", minute, \"分鐘\")\n",
        "\n",
        "hour1 = int (time / 60)\n",
        "minute1 = ((time / 60) - hour1) * 60\n",
        "minute1 = round(minute1)\n",
        "print(time, \"是\", hour1, \"小時\", minute1, \"分鐘\")"
      ],
      "execution_count": 15,
      "outputs": [
        {
          "output_type": "stream",
          "text": [
            "356 是 5 小時 56 分鐘\n",
            "356 是 5 小時 56 分鐘\n"
          ],
          "name": "stdout"
        }
      ]
    },
    {
      "cell_type": "code",
      "metadata": {
        "id": "Tir4-sfRjDF_"
      },
      "source": [
        ""
      ],
      "execution_count": null,
      "outputs": []
    }
  ]
}