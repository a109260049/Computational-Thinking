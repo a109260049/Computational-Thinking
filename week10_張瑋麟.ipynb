{
  "nbformat": 4,
  "nbformat_minor": 0,
  "metadata": {
    "colab": {
      "name": "week10-張瑋麟.ipynb",
      "provenance": [],
      "collapsed_sections": [],
      "authorship_tag": "ABX9TyODOYt+83GzCAToAmWskcqw",
      "include_colab_link": true
    },
    "kernelspec": {
      "name": "python3",
      "display_name": "Python 3"
    }
  },
  "cells": [
    {
      "cell_type": "markdown",
      "metadata": {
        "id": "view-in-github",
        "colab_type": "text"
      },
      "source": [
        "<a href=\"https://colab.research.google.com/github/a109260049/Computational-Thinking/blob/main/week10_%E5%BC%B5%E7%91%8B%E9%BA%9F.ipynb\" target=\"_parent\"><img src=\"https://colab.research.google.com/assets/colab-badge.svg\" alt=\"Open In Colab\"/></a>"
      ]
    },
    {
      "cell_type": "code",
      "metadata": {
        "colab": {
          "base_uri": "https://localhost:8080/"
        },
        "id": "Q3Hg4FweRr_M",
        "outputId": "c88e1615-2824-4b45-c184-fdfa3c40e97a"
      },
      "source": [
        "movie_title = \"money ball\"\n",
        "release_year = '2011'\n",
        "Director = \" Bennett Miller\"\n",
        "Writers = \" Steven Zaillian (screenplay), Aaron Sorkin (screenplay)\"\n",
        "Stars = \" Brad Pitt, Robin Wright, Jonah Hill\"\n",
        "\n",
        "print(\"電腦英文名稱\",movie_title)\n",
        "print(\"上映時間\",release_year)\n",
        "print(\"導演\",Director)\n",
        "print(\"作者\",Writers)\n",
        "print(\"明星\",Stars )\n",
        "\n"
      ],
      "execution_count": null,
      "outputs": [
        {
          "output_type": "stream",
          "text": [
            "電腦英文名稱 money ball\n",
            "上映時間 2011\n",
            "導演  Bennett Miller\n",
            "作者  Steven Zaillian (screenplay), Aaron Sorkin (screenplay)\n",
            "明星  Brad Pitt, Robin Wright, Jonah Hill\n"
          ],
          "name": "stdout"
        }
      ]
    }
  ]
}